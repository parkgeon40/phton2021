{
  "nbformat": 4,
  "nbformat_minor": 0,
  "metadata": {
    "colab": {
      "name": "python02.ipynb",
      "provenance": [],
      "collapsed_sections": [],
      "toc_visible": true,
      "include_colab_link": true
    },
    "kernelspec": {
      "name": "python3",
      "display_name": "Python 3"
    },
    "language_info": {
      "name": "python"
    }
  },
  "cells": [
    {
      "cell_type": "markdown",
      "metadata": {
        "id": "view-in-github",
        "colab_type": "text"
      },
      "source": [
        "<a href=\"https://colab.research.google.com/github/parkgeon40/phton2021/blob/main/python02.ipynb\" target=\"_parent\"><img src=\"https://colab.research.google.com/assets/colab-badge.svg\" alt=\"Open In Colab\"/></a>"
      ]
    },
    {
      "cell_type": "markdown",
      "metadata": {
        "id": "U_N0OPT_KdOK"
      },
      "source": [
        "# **컬렉션자료형(collection data type)**\n",
        "+ 여러 요소를 묶어서 처리할 수 있는 자료형 \n",
        "+ 각 요소에 접근하는 방법이 제공\n",
        "\n",
        "![대체 텍스트](https://drive.google.com/uc?export=view&id=1qNHKZPJv546haViE6KBY3kg8gUlHJm_F)"
      ]
    },
    {
      "cell_type": "markdown",
      "metadata": {
        "id": "bskomZoIKr0G"
      },
      "source": [
        "## 문자열 "
      ]
    },
    {
      "cell_type": "markdown",
      "metadata": {
        "id": "wrbbIeVOdXc7"
      },
      "source": [
        "### 문자열 요소 접근"
      ]
    },
    {
      "cell_type": "code",
      "metadata": {
        "id": "CWKy8Fo7eq94",
        "colab": {
          "base_uri": "https://localhost:8080/"
        },
        "outputId": "65415df8-fd18-431f-e064-808047d8f937"
      },
      "source": [
        "#문자요소 접근 \n",
        "s = 'Hello Python!'\n",
        "print(s[-1])"
      ],
      "execution_count": null,
      "outputs": [
        {
          "output_type": "stream",
          "text": [
            "!\n"
          ],
          "name": "stdout"
        }
      ]
    },
    {
      "cell_type": "code",
      "metadata": {
        "id": "hLhbsd1XiBFK",
        "colab": {
          "base_uri": "https://localhost:8080/"
        },
        "outputId": "df0395bd-e950-4097-a90b-a4587251a0a2"
      },
      "source": [
        "# 문자열에 포함된 숫자들의 합\n",
        "data = input()\n",
        "sum=0\n",
        "for item in data:\n",
        "  if '1' <= item <= '9':\n",
        "    sum=sum + int(item)\n",
        "\n",
        "print(sum)"
      ],
      "execution_count": null,
      "outputs": [
        {
          "output_type": "stream",
          "text": [
            "abc123de5\n",
            "11\n"
          ],
          "name": "stdout"
        }
      ]
    },
    {
      "cell_type": "markdown",
      "metadata": {
        "id": "EeRoj_qXeTUz"
      },
      "source": [
        "### 문자열 인덱싱\n",
        " -  문자열의 각 문자는 0부터 시작되는 인덱스를 가짐\n",
        " - [인덱스]를 이용하여 인덱스위치의 문자 추출 :  처음위치 [0], 마지막위치 [-1]\n",
        " "
      ]
    },
    {
      "cell_type": "code",
      "metadata": {
        "id": "RAggJY-wejri"
      },
      "source": [
        "s = 'Hello Python!'\n",
        "\n",
        "# 첫번쨰 문자\n",
        "\n",
        "# 마지막 문자 "
      ],
      "execution_count": null,
      "outputs": []
    },
    {
      "cell_type": "markdown",
      "metadata": {
        "id": "b_aP0gP72DaV"
      },
      "source": [
        "---\n",
        "### 해결문제\n",
        "---\n",
        "주민번호를 입력받아서 남여를 구분하시오. 입력형식 123456-1234567"
      ]
    },
    {
      "cell_type": "code",
      "metadata": {
        "id": "97RRp4Vf2VAs",
        "colab": {
          "base_uri": "https://localhost:8080/"
        },
        "outputId": "a9219c49-7762-4d6d-9dee-5402d92b763f"
      },
      "source": [
        "a=input()\n",
        "if a[7]=='1' or a[7]=='3':\n",
        "    print(\"man\")\n",
        "\n",
        "else:\n",
        "    print(\"woman\")"
      ],
      "execution_count": null,
      "outputs": [
        {
          "output_type": "stream",
          "text": [
            "123456-213456\n",
            "woman\n"
          ],
          "name": "stdout"
        }
      ]
    },
    {
      "cell_type": "markdown",
      "metadata": {
        "id": "_ECVXl6meezS"
      },
      "source": [
        "\n",
        "### 문자열 슬라이싱 \n",
        " - [인덱스1:인덱스2]: 인덱스1 위치에서 인덱스2 -1 위치까지 잘라냄\n",
        " - [인덱스1:] : 인덱스1 위치에서 끝까지 잘라냄\n",
        " - [: 인덱스2] : 처음부터 인덱스2 -1 위치까지 잘라냄"
      ]
    },
    {
      "cell_type": "code",
      "metadata": {
        "id": "u7XUAQwvfSP2",
        "colab": {
          "base_uri": "https://localhost:8080/"
        },
        "outputId": "53d25cce-c39f-4e99-ac0e-8a44123ddb7e"
      },
      "source": [
        "s = 'Hello Python!'\n",
        "\n",
        "# 5글자 추출\n",
        "print(s[7:])"
      ],
      "execution_count": null,
      "outputs": [
        {
          "output_type": "stream",
          "text": [
            "ython!\n"
          ],
          "name": "stdout"
        }
      ]
    },
    {
      "cell_type": "markdown",
      "metadata": {
        "id": "9JuBLEqQjfRn"
      },
      "source": [
        "### 문자열 연산\n",
        "+ 문자열 더하기(+)\n",
        "+ 문자열 곱하기(*)"
      ]
    },
    {
      "cell_type": "code",
      "metadata": {
        "colab": {
          "base_uri": "https://localhost:8080/"
        },
        "id": "PT157khdoQEJ",
        "outputId": "ce28de34-027e-4173-af9c-e9141fad990e"
      },
      "source": [
        "s='Hello Python'\n",
        "s.split(' ')"
      ],
      "execution_count": null,
      "outputs": [
        {
          "output_type": "execute_result",
          "data": {
            "text/plain": [
              "['Hello', 'Python']"
            ]
          },
          "metadata": {
            "tags": []
          },
          "execution_count": 31
        }
      ]
    },
    {
      "cell_type": "code",
      "metadata": {
        "id": "1K42RN_kjj1L"
      },
      "source": [
        "'''\n",
        "다음과 같이 출력\n",
        "------------------------------\n",
        "Hello Python!2021\n",
        "------------------------------\n",
        "'''\n",
        "s = 'Hello Python!'\n",
        " "
      ],
      "execution_count": null,
      "outputs": []
    },
    {
      "cell_type": "markdown",
      "metadata": {
        "id": "AMTyZCqsfi6c"
      },
      "source": [
        "### **문자열 메소드**\n",
        "+ **len()** : 문자열 길이 구하기\n",
        "+ **count()** : 문자의 개수 구하기\n",
        "+ **find()** : 문자가 처음 나오는 위치 반환 , 없으면 -1\n",
        "+ **index()** : 문자가 처음 나오는 위치 반환, 없으면 오류\n",
        "+ **join()** : 문자열 사이에 문자 삽입, 삽입문자’.join(문자열)\n",
        "+ **upper()** :소문자를 대문자로 변환\n",
        "+ **lower()** : 대문자를 소문자로 변환\n",
        "+ **replace()** : 문자열 바꾸기\n",
        "+ **replace(원본, 변환문자)**\n",
        "+ **split()** : 문자열 나누기\n",
        " - 인수가 없으면 공백(스페이스, 탭, 엔터 등)을 기준"
      ]
    },
    {
      "cell_type": "markdown",
      "metadata": {
        "id": "wehzUobPivZ1"
      },
      "source": [
        "---\n",
        "### 해결문제\n",
        "---\n",
        "코로나(corona)는 라틴말로 왕관을 뜻하며 통상 태양을 둘러싼 외곽의 빛(광환)을 지칭한다. 코로나바이러스라는 이름은 전자현미경으로 이 바이러스를 관찰했을 때 마치 코로나와 유사한 모양을 띠어 붙여진 이름이다. 이번에 중국의 우환에서 시작된 코로나바이러스는 2019년에 발견된 새로운 코로나바이러스라는 뜻으로 2019-nCoV로 붙여졌다. nCoV는 novel(새로운) CoV(코로나바이러스)라는 뜻이다.\n",
        "\n",
        "+ 주어진 문자열은 문장으로 구성 되어 있는지 출력하시오. \n",
        "+ 찾고자 하는 단어를 입력 받아서 해당 단어가 몇 번 언급되었는지 확인해 보세요."
      ]
    },
    {
      "cell_type": "code",
      "metadata": {
        "id": "Bm6acluwjTZf",
        "colab": {
          "base_uri": "https://localhost:8080/"
        },
        "outputId": "d5bfbc95-e09a-4d0f-9052-ea9fe695d87a"
      },
      "source": [
        "'''\n",
        "다음과 같이 출력 \n",
        "--------------------------------------------------\n",
        "4개의 문장으로 이루어져있습니다.\n",
        "['코로나(corona)는 라틴말로 왕관을 뜻하며 통상 태양을 둘러싼 외곽의 빛(광환)을 지칭한다', ' 코로나바이러스라는 이름은 전자현미경으로 이 바이러스를 관찰했을 때 마치 코로나와 유사한 모양을 띠어 붙여진 이름이다', ' 이번에 중국의 우환에서 시작된 코로나바이러스는 2019년에 발견된 새로운 코로나바이러스라는 뜻으로 2019-nCoV로 붙여졌다', ' nCoV는 novel(새로운) CoV(코로나바이러스)라는 뜻이다', ' ']\n",
        "--------------------------------------------------\n",
        "찾고자하는 단어를 입력하세요.코로나\n",
        "--------------------------------------------------\n",
        "코로나는 6번 언급되었습니다.\n",
        "--------------------------------------------------\n",
        "'''\n",
        "\n",
        "corona = '''\n",
        "코로나(corona)는 라틴말로 왕관을 뜻하며 통상 태양을 둘러싼 외곽의 빛(광환)을 지칭한다. \n",
        "코로나바이러스라는 이름은 전자현미경으로 이 바이러스를 관찰했을 때 마치 코로나와 유사한 모양을 띠어 붙여진 이름이다. \n",
        "이번에 중국의 우환에서 시작된 코로나바이러스는 2019년에 발견된 새로운 코로나바이러스라는 뜻으로 2019-nCoV로 붙여졌다. \n",
        "nCoV는 novel(새로운) CoV(코로나바이러스)라는 뜻이다. \n",
        "'''\n",
        " \n",
        "print(corona.count('.'))\n",
        "corona = corona.replace('\\n','')\n",
        "print(corona.split('.'))"
      ],
      "execution_count": null,
      "outputs": [
        {
          "output_type": "stream",
          "text": [
            "4\n",
            "['코로나(corona)는 라틴말로 왕관을 뜻하며 통상 태양을 둘러싼 외곽의 빛(광환)을 지칭한다', ' 코로나바이러스라는 이름은 전자현미경으로 이 바이러스를 관찰했을 때 마치 코로나와 유사한 모양을 띠어 붙여진 이름이다', ' 이번에 중국의 우환에서 시작된 코로나바이러스는 2019년에 발견된 새로운 코로나바이러스라는 뜻으로 2019-nCoV로 붙여졌다', ' nCoV는 novel(새로운) CoV(코로나바이러스)라는 뜻이다', ' ']\n"
          ],
          "name": "stdout"
        }
      ]
    },
    {
      "cell_type": "code",
      "metadata": {
        "id": "IjBwr2thpffv"
      },
      "source": [
        ""
      ],
      "execution_count": null,
      "outputs": []
    },
    {
      "cell_type": "markdown",
      "metadata": {
        "id": "ijNhIH6CmrXJ"
      },
      "source": [
        "## **리스트(list)**\n",
        " - 리스트의 각 요소는 순서를 가지고 있음\n",
        " - 대괄호([])로 작성되며 각 요소는 쉼표(,)로 구분\n",
        " - 요소를 추가, 수정, 삭제 가능"
      ]
    },
    {
      "cell_type": "markdown",
      "metadata": {
        "id": "3SrhTGkinJz7"
      },
      "source": [
        "### 리스트 생성\n",
        "+ []나 리스트 함수"
      ]
    },
    {
      "cell_type": "code",
      "metadata": {
        "colab": {
          "base_uri": "https://localhost:8080/"
        },
        "id": "xlGs0cD5qbMh",
        "outputId": "1ae4e12d-677e-4fc3-eee7-4592a90c7e45"
      },
      "source": [
        "x = [1,2,3,'a','b',[14,5,5.6]]\n",
        "print(x,type(x))\n",
        "print(x[0:3])"
      ],
      "execution_count": null,
      "outputs": [
        {
          "output_type": "stream",
          "text": [
            "[1, 2, 3, 'a', 'b', [14, 5, 5.6]] <class 'list'>\n",
            "[1, 2, 3]\n"
          ],
          "name": "stdout"
        }
      ]
    },
    {
      "cell_type": "code",
      "metadata": {
        "id": "9BAADR6snRE5"
      },
      "source": [
        "lt = []"
      ],
      "execution_count": null,
      "outputs": []
    },
    {
      "cell_type": "markdown",
      "metadata": {
        "id": "DT3ToqCOoJKi"
      },
      "source": [
        "### 리스트 요소 접근"
      ]
    },
    {
      "cell_type": "code",
      "metadata": {
        "id": "9b4wEJ17oNLo"
      },
      "source": [
        "lt = ['1', '2', '3', '4', '5']\n",
        "\n",
        "# 각 요소 한줄로 출력 \n",
        "# 출력 : 1 2 3 4 5 "
      ],
      "execution_count": null,
      "outputs": []
    },
    {
      "cell_type": "code",
      "metadata": {
        "colab": {
          "base_uri": "https://localhost:8080/"
        },
        "id": "CzTw-YF0oiq5",
        "outputId": "25b19537-324e-428b-a9a8-4bf1f95b40ca"
      },
      "source": [
        "lt = ['1', '2', '3', '4', '5']\n",
        "print(f'{lt} => {type(lt)}')\n",
        "\n",
        "for i in lt :\n",
        "    print(i,type(i),end=' ')\n",
        "#요소를 모두 정수로 변환\n",
        "lt = [int(i) for i in lt]\n",
        "for i in lt:\n",
        "    print(i,type(i),end=' ')"
      ],
      "execution_count": null,
      "outputs": [
        {
          "output_type": "stream",
          "text": [
            "['1', '2', '3', '4', '5'] => <class 'list'>\n",
            "1 <class 'str'> 2 <class 'str'> 3 <class 'str'> 4 <class 'str'> 5 <class 'str'> 1 <class 'int'> 2 <class 'int'> 3 <class 'int'> 4 <class 'int'> 5 <class 'int'> "
          ],
          "name": "stdout"
        }
      ]
    },
    {
      "cell_type": "markdown",
      "metadata": {
        "id": "ZzvRHvMKtPo6"
      },
      "source": [
        "---\n",
        "\n",
        "**생각해보기 해결문제)**\n",
        "\n",
        "\n",
        "---\n",
        "정수형으로 입력되는 밑변과 높이를 공백을 기준으로 한 줄로 입력받는다면?\n",
        "* 예) 20 10"
      ]
    },
    {
      "cell_type": "code",
      "metadata": {
        "id": "LsKC8ezKtV5J",
        "colab": {
          "base_uri": "https://localhost:8080/"
        },
        "outputId": "f33ade29-026c-4615-9ab6-ea8b8dadb7a8"
      },
      "source": [
        "data = input()\n",
        "x= data.split(' ')\n",
        "x = [int(i) for i in x]\n",
        "side=(x[0] * x[1])/2\n",
        "print(f'밑변이 {x[0]}이고 높이가 {x[1]}인 삼격형의 면적은 {side}입니다.')"
      ],
      "execution_count": null,
      "outputs": [
        {
          "output_type": "stream",
          "text": [
            "10 20\n",
            "밑변이 10이고 높이가 20인 삼격형의 면적은 100.0입니다.\n"
          ],
          "name": "stdout"
        }
      ]
    },
    {
      "cell_type": "code",
      "metadata": {
        "colab": {
          "base_uri": "https://localhost:8080/"
        },
        "id": "bu65N6D_EL6-",
        "outputId": "0f13a34a-43cd-4190-c91f-f31327c9457c"
      },
      "source": [
        "lt = ['1','2','3','4','5']\n",
        "lt"
      ],
      "execution_count": null,
      "outputs": [
        {
          "output_type": "execute_result",
          "data": {
            "text/plain": [
              "['1', '2', '3', '4', '5']"
            ]
          },
          "metadata": {
            "tags": []
          },
          "execution_count": 26
        }
      ]
    },
    {
      "cell_type": "code",
      "metadata": {
        "colab": {
          "base_uri": "https://localhost:8080/"
        },
        "id": "Zcf_NfQTEZK5",
        "outputId": "76e715e9-397f-4bd6-9c84-1ce70f16d4ad"
      },
      "source": [
        "for item in lt:\n",
        "    print(item,type(item), int(item), type(int(item)))"
      ],
      "execution_count": null,
      "outputs": [
        {
          "output_type": "stream",
          "text": [
            "1 <class 'int'> 1 <class 'int'>\n",
            "2 <class 'int'> 2 <class 'int'>\n",
            "3 <class 'int'> 3 <class 'int'>\n",
            "4 <class 'int'> 4 <class 'int'>\n",
            "5 <class 'int'> 5 <class 'int'>\n"
          ],
          "name": "stdout"
        }
      ]
    },
    {
      "cell_type": "code",
      "metadata": {
        "id": "gtG0uJ2wEx5Z"
      },
      "source": [
        "lt[0] = int(lt[0])\n",
        "len(lt)\n",
        "for i in range(len(lt)):\n",
        "  lt[i]= int(lt[i])"
      ],
      "execution_count": null,
      "outputs": []
    },
    {
      "cell_type": "code",
      "metadata": {
        "id": "ySDy0_wKGKIp"
      },
      "source": [
        "lt = [int(item) for item in lt]"
      ],
      "execution_count": null,
      "outputs": []
    },
    {
      "cell_type": "markdown",
      "metadata": {
        "id": "ih2lzZgSnXr6"
      },
      "source": [
        "### 리스트 인덱싱\n",
        " - 요소의 선택은 0부터 시작되는 인덱스로 접근\n",
        " - 리스트명[인덱스]"
      ]
    },
    {
      "cell_type": "code",
      "metadata": {
        "id": "7d_oMnoinapv",
        "colab": {
          "base_uri": "https://localhost:8080/"
        },
        "outputId": "2f19e2dd-051c-4da2-ec1a-abe807a2e671"
      },
      "source": [
        "lt = [1,3,5]\n",
        "print(lt[2])\n",
        "#마지막 요소 출력"
      ],
      "execution_count": null,
      "outputs": [
        {
          "output_type": "stream",
          "text": [
            "5\n"
          ],
          "name": "stdout"
        }
      ]
    },
    {
      "cell_type": "markdown",
      "metadata": {
        "id": "4kkhezktnt7Z"
      },
      "source": [
        "### 리스트 슬라이싱\n",
        " - 요소의 일부분 선택\n",
        " - 리스트명[시작인덱스:종료인덱스] : 종료인덱스는 포함되지 않음"
      ]
    },
    {
      "cell_type": "code",
      "metadata": {
        "id": "7xe1tbXvnzG5",
        "colab": {
          "base_uri": "https://localhost:8080/"
        },
        "outputId": "dc12a172-75b7-4d3a-b58e-67b2836a9b2f"
      },
      "source": [
        "lt = [1 , 3, 5]\n",
        "print(lt[1:])\n",
        "#3, 5 추출 "
      ],
      "execution_count": null,
      "outputs": [
        {
          "output_type": "stream",
          "text": [
            "[3, 5]\n"
          ],
          "name": "stdout"
        }
      ]
    },
    {
      "cell_type": "markdown",
      "metadata": {
        "id": "TdtqmVq-pRDQ"
      },
      "source": [
        "### 리스트 연산\n",
        "+ 더하기(+) : 리스트와 리스트 연결\n",
        "+ 곱하기(*) : 리스트 요소 반복"
      ]
    },
    {
      "cell_type": "code",
      "metadata": {
        "id": "Yr-2ScgTpbe4",
        "colab": {
          "base_uri": "https://localhost:8080/"
        },
        "outputId": "d30b0468-b86e-477f-c7aa-fcd24e95d754"
      },
      "source": [
        "lt1 = [1, 2, 3]\n",
        "lt2 = [3, 4, 5]\n",
        "\n",
        "#두 리스트 더하기 \n",
        "lt = lt1 + lt2\n",
        "print('리스트 더하기:',lt)\n",
        "#lt1 리스트 요소 3번 반복하기 \n",
        "print(lt1 * 3)"
      ],
      "execution_count": null,
      "outputs": [
        {
          "output_type": "stream",
          "text": [
            "리스트 더하기: [1, 2, 3, 3, 4, 5]\n",
            "[1, 2, 3, 1, 2, 3, 1, 2, 3]\n"
          ],
          "name": "stdout"
        }
      ]
    },
    {
      "cell_type": "code",
      "metadata": {
        "colab": {
          "base_uri": "https://localhost:8080/"
        },
        "id": "NyukWjPsIMyo",
        "outputId": "fea59bab-a609-4972-824b-0a46ba6cc181"
      },
      "source": [
        "s1= 'Hello '\n",
        "s2= 'Python!'\n",
        "\n",
        "print(s1 + s2)\n",
        "print(s1 * 3)"
      ],
      "execution_count": null,
      "outputs": [
        {
          "output_type": "stream",
          "text": [
            "Hello Python!\n",
            "Hello Hello Hello \n"
          ],
          "name": "stdout"
        }
      ]
    },
    {
      "cell_type": "code",
      "metadata": {
        "colab": {
          "base_uri": "https://localhost:8080/"
        },
        "id": "L5D2EdxhIjcT",
        "outputId": "42d2ab93-cfa5-46fd-80d4-7f5dc8241bd7"
      },
      "source": [
        "lt1=[1,2,3]\n",
        "lt2=[3,4,5]\n",
        "\n",
        "lt=[]\n",
        "\n",
        "for i in range(len(lt1)):\n",
        "    lt.append(lt1[i] + lt2[i])\n",
        "\n",
        "print(lt)"
      ],
      "execution_count": null,
      "outputs": [
        {
          "output_type": "stream",
          "text": [
            "[4, 6, 8]\n"
          ],
          "name": "stdout"
        }
      ]
    },
    {
      "cell_type": "code",
      "metadata": {
        "colab": {
          "base_uri": "https://localhost:8080/"
        },
        "id": "qLhuD_pcKBM-",
        "outputId": "7c12eef7-273b-42b2-e87c-b57266a2e952"
      },
      "source": [
        "lt.insert(1,2)\n",
        "lt"
      ],
      "execution_count": null,
      "outputs": [
        {
          "output_type": "execute_result",
          "data": {
            "text/plain": [
              "[2, 2]"
            ]
          },
          "metadata": {
            "tags": []
          },
          "execution_count": 48
        }
      ]
    },
    {
      "cell_type": "code",
      "metadata": {
        "colab": {
          "base_uri": "https://localhost:8080/"
        },
        "id": "PoSc_pkWKTNW",
        "outputId": "c6d8e861-c870-429a-fff6-61522377b004"
      },
      "source": [
        "lt.pop()\n",
        "lt"
      ],
      "execution_count": null,
      "outputs": [
        {
          "output_type": "execute_result",
          "data": {
            "text/plain": [
              "[2]"
            ]
          },
          "metadata": {
            "tags": []
          },
          "execution_count": 49
        }
      ]
    },
    {
      "cell_type": "code",
      "metadata": {
        "colab": {
          "base_uri": "https://localhost:8080/"
        },
        "id": "ODAdGT4pKf6-",
        "outputId": "ca40554c-fa46-465a-f973-9f5690ce88bd"
      },
      "source": [
        "lt.remove(6)\n",
        "lt"
      ],
      "execution_count": null,
      "outputs": [
        {
          "output_type": "execute_result",
          "data": {
            "text/plain": [
              "[4, 8]"
            ]
          },
          "metadata": {
            "tags": []
          },
          "execution_count": 51
        }
      ]
    },
    {
      "cell_type": "markdown",
      "metadata": {
        "id": "mXjykxxSqMzy"
      },
      "source": [
        "### 리스트 변경\n",
        "* 추가\n",
        " - 리스트명.append(추가요소) : 마지막에 추가\n",
        " - 리스트명.insert(인덱스, 추가요소) : 해당 인덱스에 요소 추가\n",
        "\n",
        "* 삭제\n",
        " - 리스트명.pop() : 마지막 요소 삭제\n",
        " - 리스트명.pop(인덱스) : 해당 인덱스 요소 삭제\n",
        " - 리스트명.remove(요소값) : 해당 요소값 삭제, 해당 값이 없으면 오류\n",
        "\n",
        "* 수정\n",
        " - 리스트명[인덱스]=변경값\n",
        " - (참고) isinstance()함수 : 특정 객체가 특정 타입인지에 대해서 확인할 수 있는 방법"
      ]
    },
    {
      "cell_type": "code",
      "metadata": {
        "id": "O-i_PPx-qQdh",
        "colab": {
          "base_uri": "https://localhost:8080/"
        },
        "outputId": "55412bcb-70f3-42c9-e4c6-5fe927a12adb"
      },
      "source": [
        "# 정수를 입력받아서 약수리스트를 구하기\n",
        "a = int(input())\n",
        "list1 = []\n",
        "for i in range(1,a+1):\n",
        "  if a % i == 0:\n",
        "      list1.append(i)\n",
        "\n",
        "print(list1)\n"
      ],
      "execution_count": null,
      "outputs": [
        {
          "output_type": "stream",
          "text": [
            "10\n",
            "[1, 2, 5, 10]\n"
          ],
          "name": "stdout"
        }
      ]
    },
    {
      "cell_type": "code",
      "metadata": {
        "colab": {
          "base_uri": "https://localhost:8080/"
        },
        "id": "RFc-e1uYqzl0",
        "outputId": "52298175-f5d5-4d66-9ecb-30e102dd2b8b"
      },
      "source": [
        "#두번째 위치에 9 추가\n",
        "lt = [1,2,5,10]\n",
        "lt.insert(1,9)\n",
        "lt"
      ],
      "execution_count": null,
      "outputs": [
        {
          "output_type": "execute_result",
          "data": {
            "text/plain": [
              "[1, 9, 2, 5, 10]"
            ]
          },
          "metadata": {
            "tags": []
          },
          "execution_count": 71
        }
      ]
    },
    {
      "cell_type": "code",
      "metadata": {
        "colab": {
          "base_uri": "https://localhost:8080/",
          "height": 71
        },
        "id": "jWJkTNWXrRqC",
        "outputId": "cddc9b2c-5135-4abb-aae2-286adb4f12f5"
      },
      "source": [
        "lt = [1,2,5,10]\n",
        "for i in range(len(lt)-1,-1,-1):\n",
        "  if lt[i] == 2:\n",
        "    continue\n",
        "  lt.remove(lt[i])\n",
        "print(lt)\n",
        "\n",
        "\n",
        "\n",
        "'''\n",
        "for i in range(0,len(lt)):\n",
        "    if lt[i] == 2:\n",
        "      continue\n",
        "    lt.remove(lt[i])\n",
        "\n",
        "\n",
        "for i in range(len(lt)-1, -1, -1):\n",
        "    if lt[i] != 2: lt.pop() \n",
        "\n",
        "'''\n",
        "#2를 제외한 모든 요소 삭제"
      ],
      "execution_count": null,
      "outputs": [
        {
          "output_type": "stream",
          "text": [
            "[2]\n"
          ],
          "name": "stdout"
        },
        {
          "output_type": "execute_result",
          "data": {
            "application/vnd.google.colaboratory.intrinsic+json": {
              "type": "string"
            },
            "text/plain": [
              "'\\nfor i in range(0,len(lt)):\\n    if lt[i] == 2:\\n      continue\\n    lt.remove(lt[i])\\n\\n\\nfor i in range(len(lt)-1, -1, -1):\\n    if lt[i] != 2: lt.pop() \\n\\n'"
            ]
          },
          "metadata": {
            "tags": []
          },
          "execution_count": 10
        }
      ]
    },
    {
      "cell_type": "code",
      "metadata": {
        "id": "5iGnTAmUr5tB",
        "colab": {
          "base_uri": "https://localhost:8080/",
          "height": 35
        },
        "outputId": "bd9dae56-8b2f-4b4f-b974-17ae86f179bf"
      },
      "source": [
        "# 문자인 요소를 숫자로 변경\n",
        "lt = [1, 2, '5', 10]\n",
        "for n in range(0,len(lt)-1):\n",
        "  if  isinstance(lt[n],str)==True:\n",
        "    lt.replace(lt[n],int(lt[n]))\n"
      ],
      "execution_count": null,
      "outputs": [
        {
          "output_type": "execute_result",
          "data": {
            "application/vnd.google.colaboratory.intrinsic+json": {
              "type": "string"
            },
            "text/plain": [
              "'5'"
            ]
          },
          "metadata": {
            "tags": []
          },
          "execution_count": 76
        }
      ]
    },
    {
      "cell_type": "markdown",
      "metadata": {
        "id": "sjMZQUazwNFi"
      },
      "source": [
        "### 리스트 메소드\n",
        "+ 리스트명.index(요소값) : 해당 요소값의 위치를 반환\n",
        " - 여러 개 요소가 존재하면 첫번째 위치 반환하고 없으면 오류\n",
        "+ 리스트명.count(요소값) : 리스트 요소 개수 구하기\n",
        "+ 리스트명.sort() : 오름차순 리스트 정렬\n",
        " - 리스트명.sort(reverse=True): 내림차순\n",
        "+ 리스트명.reverse() : 요소를 역순으로 뒤집어 줌 "
      ]
    },
    {
      "cell_type": "markdown",
      "metadata": {
        "id": "43DdLbrKLA6M"
      },
      "source": [
        "---\n",
        "### 해결문제\n",
        "\n",
        "\n",
        "---\n",
        "회문(palindrome)은 순서를 거꾸로 읽어도 제대로 읽은 것과 같은 단어와 문장이다, 단어를 입력받아 회문인지 판별하시오."
      ]
    },
    {
      "cell_type": "code",
      "metadata": {
        "id": "EqHc4xGur1FO",
        "colab": {
          "base_uri": "https://localhost:8080/"
        },
        "outputId": "9ae4a447-5dd9-4852-f50a-f78f4bffde28"
      },
      "source": [
        "# reverse와 join 활용 \n",
        "data= input()\n",
        "lts = list(data)\n",
        "lts.reverse()\n",
        "s=''.join(lts)\n",
        "\n",
        "if data == s : print(f'{data}는 회문')\n",
        "else : print(f'{data}는 비회문')"
      ],
      "execution_count": null,
      "outputs": [
        {
          "output_type": "stream",
          "text": [
            "파이썬\n",
            "파이썬는 비회문\n"
          ],
          "name": "stdout"
        }
      ]
    },
    {
      "cell_type": "code",
      "metadata": {
        "id": "n8En5ca4xyOb"
      },
      "source": [
        "# [::-1] : 처음부터 끝까지 -1칸 간격으로 ( == 역순으로) \n",
        " "
      ],
      "execution_count": null,
      "outputs": []
    },
    {
      "cell_type": "markdown",
      "metadata": {
        "id": "7AJ45VMez0J1"
      },
      "source": [
        "### 리스트 내장함수\n",
        "* sum() : 리스트의 합을 반환\n",
        "* min() : 리스트 최소값 반환\n",
        "* max() : 리스트 최대값 반환\n",
        "* len() : 리스트 개수 반환"
      ]
    },
    {
      "cell_type": "markdown",
      "metadata": {
        "id": "SAa867TDz2jR"
      },
      "source": [
        "---\n",
        "### 해결문제\n",
        "\n",
        "\n",
        "---\n",
        "자신을 제외한 모든 약수의 함이 자신과 같은 수를 완전수라고 한다. \n",
        "입력한 값이 완전수 인지 확인해 보세요.\n",
        "예) 6, 28, 496"
      ]
    },
    {
      "cell_type": "code",
      "metadata": {
        "id": "Ag8tiyi4z7v1"
      },
      "source": [
        "n = int(input())\n",
        "result = 0\n",
        "for e in range(1,n):\n",
        "  if n%e == 0 :\n",
        "    result += e\n",
        "if result == n:\n",
        "  print(n,\"은 완전수 입니다.\")\n",
        "else:\n",
        "  print(\"완전수가 아닙니다.\")"
      ],
      "execution_count": null,
      "outputs": []
    },
    {
      "cell_type": "markdown",
      "metadata": {
        "id": "ggnd2AxcgBQI"
      },
      "source": [
        "\n",
        "\n",
        "---\n",
        "### 해결문제\n",
        "\n",
        "\n",
        "---\n",
        "369게임은 3,6,9가 포함된 숫자가 나오면 박수를 치는 게임이다.\n",
        "\n",
        "이때, 해당 숫자에 여러개의 3,6,9가 포함되면 해당 개수만큼 박수를 쳐야한다.\n",
        "\n",
        "예를 들어, 36이면 2번의 박수를 쳐야한다.\n",
        "N을 입력받아서 N이전까지 박수 친 횟수를 구하시오.\n",
        "\n",
        "예) 입력: 35, 출력: 15\n",
        "\n"
      ]
    },
    {
      "cell_type": "code",
      "metadata": {
        "id": "zzI1CYU6gChI",
        "colab": {
          "base_uri": "https://localhost:8080/"
        },
        "outputId": "cd477f4b-1c02-49b9-85a3-2a2bde7dd840"
      },
      "source": [
        "n = int(input())\n",
        "result = 0\n",
        "for a in range(1,n+1):\n",
        "  if '3' in str(a) or '6' in str(a) or '9' in str(a):\n",
        "    result+=1\n",
        "print(result)\n"
      ],
      "execution_count": null,
      "outputs": [
        {
          "output_type": "stream",
          "text": [
            "40\n",
            "19\n"
          ],
          "name": "stdout"
        }
      ]
    },
    {
      "cell_type": "code",
      "metadata": {
        "colab": {
          "base_uri": "https://localhost:8080/"
        },
        "id": "oCKJMhkCqo4I",
        "outputId": "44744acb-b860-4f8c-980b-edf041f0d3c2"
      },
      "source": [
        "n= int(input())\n",
        "cnt = 0\n",
        "for i in range(n):\n",
        "    temp= list(str(i))\n",
        "    temp= [int(i) for i in temp]\n",
        "\n",
        "    for j in temp:\n",
        "        if j in [3,6,9]: cnt= cnt+1\n",
        "print(cnt)"
      ],
      "execution_count": null,
      "outputs": [
        {
          "output_type": "stream",
          "text": [
            "40\n",
            "22\n"
          ],
          "name": "stdout"
        }
      ]
    },
    {
      "cell_type": "markdown",
      "metadata": {
        "id": "gyS_EUW72Rkg"
      },
      "source": [
        "## 튜플(tuple) \n",
        "+ 튜플의 각 요소는 순서를 가지고 있음\n",
        "+ 괄호(())로 작성되며 각 요소는 쉼표(,)로 구분\n",
        "+ 요소를 추가, 수정, 삭제 불가능\n",
        "+ **한번 결정된 요소는 변경 불가능**\n",
        "+ **인덱싱과 슬라이싱은 리스트와 동일**\n",
        "+ $+$와 $*$연산은 리스트와 동일\n",
        "+ 각 요소에 변수 할당 가능\n",
        " - x, y = (10, 20)"
      ]
    },
    {
      "cell_type": "markdown",
      "metadata": {
        "id": "Zu9JAJs22niA"
      },
      "source": [
        "---\n",
        "\n",
        "**생각해보기)**\n",
        "\n",
        "\n",
        "---\n",
        "튜플의 내용을 변경하고 싶을 경우는?\n"
      ]
    },
    {
      "cell_type": "markdown",
      "metadata": {
        "id": "VXfYSOdW8adn"
      },
      "source": [
        "## 딕션너리(dictionary)\n",
        " - 키(key)와 값(value) 쌍을 요소로 가짐\n",
        " - 중괄호({})로 작성되며 각 요소는 쉼표(,)로 구분\n",
        " - 순서 없음 \n",
        " - 키는 변경할 수 없으며 값은 변경가능 \n"
      ]
    },
    {
      "cell_type": "code",
      "metadata": {
        "id": "ngtkAr4y9h6p"
      },
      "source": [
        "areadata = {'서울시':57, '부산시':62, '대구시':59, \n",
        "            '인천시':59, '강화군':58, '서해5도' : 64, \n",
        "            '광주시' :62, '대전시':60, '울산시':53, \n",
        "            '세종시':58\t}"
      ],
      "execution_count": null,
      "outputs": []
    },
    {
      "cell_type": "markdown",
      "metadata": {
        "id": "8BUk47wo8gvW"
      },
      "source": [
        "### **딕션너리 접근**\n",
        " - 특정 요소 값 가져오기\n",
        "   + **딕션너리명[키]**\n",
        "   + **닥션너리명.get(키값)**\n",
        "    + Key에 대응되는 Value를 돌려줌\n",
        "    + 딕션너리명[키값]인 것과 동일 \n",
        "    + 차이점 : 키가 없을 경우 딕션너리명[키값]은 오류이고 get()으로 가져올 경우는 none\n",
        " - 요소 키 컬렉션  : 딕션너리명.keys()\n",
        " - 요소 값 컬렉션 : 딕션너리명.values()\n",
        " - 키와 요소 컬렉션은 list() 생성자로 리스트로 변환가능\n"
      ]
    },
    {
      "cell_type": "code",
      "metadata": {
        "id": "M39pJ_QNzlLv"
      },
      "source": [
        "#부산시 자료 가져오기\n",
        " "
      ],
      "execution_count": null,
      "outputs": []
    },
    {
      "cell_type": "code",
      "metadata": {
        "id": "gujVMNaN9m3M",
        "colab": {
          "base_uri": "https://localhost:8080/"
        },
        "outputId": "3a12bb28-de13-4b6f-b360-59353f699210"
      },
      "source": [
        "#키와 값을 분리\n",
        "print(areadata)\n",
        "print(list(areadata.keys()))\n",
        "print(list(areadata.values()))\n",
        "\n",
        "del areadata['김해']"
      ],
      "execution_count": null,
      "outputs": [
        {
          "output_type": "stream",
          "text": [
            "{'서울시': 57, '부산시': 70, '대구시': 59, '인천시': 59, '강화군': 58, '서해5도': 64, '광주시': 62, '대전시': 60, '울산시': 53, '세종시': 58, '충청': 1, '제주': 100, '거제시': 1000, '김해': 10000}\n",
            "['서울시', '부산시', '대구시', '인천시', '강화군', '서해5도', '광주시', '대전시', '울산시', '세종시', '충청', '제주', '거제시', '김해']\n",
            "[57, 70, 59, 59, 58, 64, 62, 60, 53, 58, 1, 100, 1000, 10000]\n"
          ],
          "name": "stdout"
        }
      ]
    },
    {
      "cell_type": "code",
      "metadata": {
        "id": "NvksOfhCxCfN"
      },
      "source": [
        "areadata['충청']=1\n",
        "areadata['제주']=100\n",
        "areadata['거제시']=1000\n",
        "areadata['김해']=10000"
      ],
      "execution_count": null,
      "outputs": []
    },
    {
      "cell_type": "code",
      "metadata": {
        "id": "HM3IT7dN-B9q",
        "colab": {
          "base_uri": "https://localhost:8080/"
        },
        "outputId": "c53a71a0-0cc1-4d07-abc4-76fdcf1c6e07"
      },
      "source": [
        "#키와 값으로 출력 \n",
        "areadata['부산시']= 70\n",
        "areadata"
      ],
      "execution_count": null,
      "outputs": [
        {
          "output_type": "execute_result",
          "data": {
            "text/plain": [
              "{'강화군': 58,\n",
              " '거제시': 1000,\n",
              " '광주시': 62,\n",
              " '김해': 10000,\n",
              " '대구시': 59,\n",
              " '대전시': 60,\n",
              " '부산시': 70,\n",
              " '서울시': 57,\n",
              " '서해5도': 64,\n",
              " '세종시': 58,\n",
              " '울산시': 53,\n",
              " '인천시': 59,\n",
              " '제주': 100,\n",
              " '충청': 1}"
            ]
          },
          "metadata": {
            "tags": []
          },
          "execution_count": 27
        }
      ]
    },
    {
      "cell_type": "markdown",
      "metadata": {
        "id": "NOiOmi-78m1x"
      },
      "source": [
        "### **요소 변경**\n",
        "* 추가 : 딕션너리명[추가키]=값\n",
        "* 수정 : 딕션너리명[키]=값\n",
        "* 삭제\n",
        " - del 딕션너리명[키]\n",
        " - 딕션너리명.pop[키]"
      ]
    },
    {
      "cell_type": "markdown",
      "metadata": {
        "id": "XMbGob4U-UX-"
      },
      "source": [
        "---\n",
        "\n",
        "\n",
        "### 해결문제\n",
        "\n",
        "---\n",
        "지역별 식중독 지수와 대응요령 딕션너리를 참고하여 해당 지역을 입력 받아서 대응요령을 출력하시오.\n",
        "\n",
        "\n",
        "+ 위험 : 86 이상 \n",
        " - 설사, 구토 등 식중독 의심 증상이 있으면 의료기관을 방문하여 의사 지시에 따름\n",
        "\n",
        "+ 경고:71 이상 86 미만\n",
        " - 조리도구는 세척, 소독 등을 거쳐 세균오염을 방지하고 유통기한, 보관방법 등을 확인하여 음식물 조리. 보관에 각별히 주의하여야 함\n",
        "\n",
        "+ 주의:55 이상 71 미만\n",
        " - 조리음식은 중심부까지 75℃(어패류 85℃)로 1분 이상 완전히 익히고 외부로 운반할 때에는 가급적 아이스박스 등을 이용하여 10℃이하에서 보관 및 운반\n",
        "\n",
        "+ 관심:55 미만\n",
        " - 화장실 사용 후, 귀가 후, 조리 전에 손 씻기를 생활화\n",
        "\n",
        "\n"
      ]
    },
    {
      "cell_type": "code",
      "metadata": {
        "id": "EPCAOSxGL9RY"
      },
      "source": [
        "areadata=[['서울시',57],['부산시',62]]"
      ],
      "execution_count": 1,
      "outputs": []
    },
    {
      "cell_type": "code",
      "metadata": {
        "id": "aVktTyG3-Tr1",
        "colab": {
          "base_uri": "https://localhost:8080/"
        },
        "outputId": "03a38c79-a968-473c-8f81-21f3723b0bfc"
      },
      "source": [
        "areadata = {'서울시':57, '부산시':62, '대구시':59, \n",
        "            '인천시':59, '강화군':58, '서해5도' : 64, \n",
        "            '광주시' :62, '대전시':60, '울산시':53, \n",
        "            '세종시':58\t}\n",
        "\n",
        "report = {'위험': '설사, 구토 등 식중독 의심 증상이 있으면 의료기관을 방문하여 의사 지시에 따름',\n",
        "         '경고': '조리도구는 세척, 소독 등을 거쳐 세균오염을 방지하고 유통기한, 보관방법 등을 확인하여 음식물 조리. 보관에 각별히 주의하여야 함',\n",
        "         '주의': '조리음식은 중심부까지 75℃(어패류 85℃)로 1분 이상 완전히 익히고 외부로 운반할 때에는 가급적 아이스박스 등을 이용하여 10℃이하에서 보관 및 운반',\n",
        "         '관심': '화장실 사용 후, 귀가 후, 조리 전에 손 씻기를 생활화'}\n",
        "for i in areadata.keys():\n",
        "  print(i,end=' ')\n",
        "  if areadata[i] >= 86:\n",
        "    print('(위험):', report['위험'])\n",
        "  elif areadata[i] >= 71:\n",
        "    print('(경고):', report['경고'])\n",
        "  elif areadata[i] >= 56:\n",
        "    print('(주의):', report['주의'])\n",
        "  else:\n",
        "    print('(관심):', report['관심'])"
      ],
      "execution_count": 5,
      "outputs": [
        {
          "output_type": "stream",
          "text": [
            "서울시 (주의): 조리음식은 중심부까지 75℃(어패류 85℃)로 1분 이상 완전히 익히고 외부로 운반할 때에는 가급적 아이스박스 등을 이용하여 10℃이하에서 보관 및 운반\n",
            "부산시 (주의): 조리음식은 중심부까지 75℃(어패류 85℃)로 1분 이상 완전히 익히고 외부로 운반할 때에는 가급적 아이스박스 등을 이용하여 10℃이하에서 보관 및 운반\n",
            "대구시 (주의): 조리음식은 중심부까지 75℃(어패류 85℃)로 1분 이상 완전히 익히고 외부로 운반할 때에는 가급적 아이스박스 등을 이용하여 10℃이하에서 보관 및 운반\n",
            "인천시 (주의): 조리음식은 중심부까지 75℃(어패류 85℃)로 1분 이상 완전히 익히고 외부로 운반할 때에는 가급적 아이스박스 등을 이용하여 10℃이하에서 보관 및 운반\n",
            "강화군 (주의): 조리음식은 중심부까지 75℃(어패류 85℃)로 1분 이상 완전히 익히고 외부로 운반할 때에는 가급적 아이스박스 등을 이용하여 10℃이하에서 보관 및 운반\n",
            "서해5도 (주의): 조리음식은 중심부까지 75℃(어패류 85℃)로 1분 이상 완전히 익히고 외부로 운반할 때에는 가급적 아이스박스 등을 이용하여 10℃이하에서 보관 및 운반\n",
            "광주시 (주의): 조리음식은 중심부까지 75℃(어패류 85℃)로 1분 이상 완전히 익히고 외부로 운반할 때에는 가급적 아이스박스 등을 이용하여 10℃이하에서 보관 및 운반\n",
            "대전시 (주의): 조리음식은 중심부까지 75℃(어패류 85℃)로 1분 이상 완전히 익히고 외부로 운반할 때에는 가급적 아이스박스 등을 이용하여 10℃이하에서 보관 및 운반\n",
            "울산시 (관심): 화장실 사용 후, 귀가 후, 조리 전에 손 씻기를 생활화\n",
            "세종시 (주의): 조리음식은 중심부까지 75℃(어패류 85℃)로 1분 이상 완전히 익히고 외부로 운반할 때에는 가급적 아이스박스 등을 이용하여 10℃이하에서 보관 및 운반\n"
          ],
          "name": "stdout"
        }
      ]
    },
    {
      "cell_type": "code",
      "metadata": {
        "colab": {
          "base_uri": "https://localhost:8080/"
        },
        "id": "gvMeN2EaN7A4",
        "outputId": "455e1169-dad4-4a0a-9100-24ba5d5dc6c0"
      },
      "source": [
        "areadata = {'서울시':57, '부산시':62, '대구시':59, \n",
        "            '인천시':59, '강화군':58, '서해5도' : 64, \n",
        "            '광주시' :62, '대전시':60, '울산시':53, \n",
        "            '세종시':58\t}\n",
        "\n",
        "report = {'위험': '설사, 구토 등 식중독 의심 증상이 있으면 의료기관을 방문하여 의사 지시에 따름',\n",
        "         '경고': '조리도구는 세척, 소독 등을 거쳐 세균오염을 방지하고 유통기한, 보관방법 등을 확인하여 음식물 조리. 보관에 각별히 주의하여야 함',\n",
        "         '주의': '조리음식은 중심부까지 75℃(어패류 85℃)로 1분 이상 완전히 익히고 외부로 운반할 때에는 가급적 아이스박스 등을 이용하여 10℃이하에서 보관 및 운반',\n",
        "         '관심': '화장실 사용 후, 귀가 후, 조리 전에 손 씻기를 생활화'}\n",
        "\n",
        "rept= {}\n",
        "\n",
        "for k,v in areadata.items():\n",
        "  print(k,'=>',v)\n"
      ],
      "execution_count": 7,
      "outputs": [
        {
          "output_type": "stream",
          "text": [
            "서울시 => 57\n",
            "부산시 => 62\n",
            "대구시 => 59\n",
            "인천시 => 59\n",
            "강화군 => 58\n",
            "서해5도 => 64\n",
            "광주시 => 62\n",
            "대전시 => 60\n",
            "울산시 => 53\n",
            "세종시 => 58\n"
          ],
          "name": "stdout"
        }
      ]
    },
    {
      "cell_type": "code",
      "metadata": {
        "colab": {
          "base_uri": "https://localhost:8080/"
        },
        "id": "rTAKTID-MIMx",
        "outputId": "58c0f423-5649-4af8-a6cf-d74786eb7e4d"
      },
      "source": [
        "areadata['부산시']"
      ],
      "execution_count": 4,
      "outputs": [
        {
          "output_type": "execute_result",
          "data": {
            "text/plain": [
              "62"
            ]
          },
          "metadata": {
            "tags": []
          },
          "execution_count": 4
        }
      ]
    },
    {
      "cell_type": "code",
      "metadata": {
        "id": "30BBbUL0-gg5"
      },
      "source": [
        "'''\n",
        "다음과 같이 출력 \n",
        "서울시(주의) : 조리음식은 중심부까지 75℃(어패류 85℃)로 1분 이상 완전히 익히고 외부로 운반할 때에는 가급적 아이스박스 등을 이용하여 10℃이하에서 보관 및 운반\n",
        "부산시(주의) : 조리음식은 중심부까지 75℃(어패류 85℃)로 1분 이상 완전히 익히고 외부로 운반할 때에는 가급적 아이스박스 등을 이용하여 10℃이하에서 보관 및 운반\n",
        "대구시(주의) : 조리음식은 중심부까지 75℃(어패류 85℃)로 1분 이상 완전히 익히고 외부로 운반할 때에는 가급적 아이스박스 등을 이용하여 10℃이하에서 보관 및 운반\n",
        "인천시(주의) : 조리음식은 중심부까지 75℃(어패류 85℃)로 1분 이상 완전히 익히고 외부로 운반할 때에는 가급적 아이스박스 등을 이용하여 10℃이하에서 보관 및 운반\n",
        "강화군(주의) : 조리음식은 중심부까지 75℃(어패류 85℃)로 1분 이상 완전히 익히고 외부로 운반할 때에는 가급적 아이스박스 등을 이용하여 10℃이하에서 보관 및 운반\n",
        "서해5도(주의) : 조리음식은 중심부까지 75℃(어패류 85℃)로 1분 이상 완전히 익히고 외부로 운반할 때에는 가급적 아이스박스 등을 이용하여 10℃이하에서 보관 및 운반\n",
        "광주시(주의) : 조리음식은 중심부까지 75℃(어패류 85℃)로 1분 이상 완전히 익히고 외부로 운반할 때에는 가급적 아이스박스 등을 이용하여 10℃이하에서 보관 및 운반\n",
        "대전시(주의) : 조리음식은 중심부까지 75℃(어패류 85℃)로 1분 이상 완전히 익히고 외부로 운반할 때에는 가급적 아이스박스 등을 이용하여 10℃이하에서 보관 및 운반\n",
        "울산시(관심) : 화장실 사용 후, 귀가 후, 조리 전에 손 씻기를 생활화\n",
        "세종시(주의) : 조리음식은 중심부까지 75℃(어패류 85℃)로 1분 이상 완전히 익히고 외부로 운반할 때에는 가급적 아이스박스 등을 이용하여 10℃이하에서 보관 및 운반\n",
        "'''\n",
        " "
      ],
      "execution_count": null,
      "outputs": []
    },
    {
      "cell_type": "markdown",
      "metadata": {
        "id": "A7PVvgK3CCOq"
      },
      "source": [
        "## 집합(set)\n",
        "+ **특징**\n",
        " - 중복 없는 요소로만 구성\n",
        " - 중괄호({}) 작성되며 각 요소는 쉼표(,)로 구분\n",
        " - 순서 없음\n",
        "\n",
        "+ **생성자 set()**\n",
        " - 리스트나 튜플의 중복 요소 제거 \n",
        "\n",
        "+ **요소 추가**\n",
        " - 집합명.add(요소) : 하나의 요소 추가\n",
        " - 집합명.update(추가집합) : 여러 요소를 추가\n",
        "\n",
        "+ **요소 삭제**\n",
        " - 집합명.remove(요소값) : 하나의 요소 삭제\n",
        " - 집합명.clear() : 모든 요소 삭제\n",
        " \n",
        "+ **집합 연산**\n",
        " - 교집합 : &\n",
        " - 합집합 : |\n",
        " - 차집합 : -"
      ]
    },
    {
      "cell_type": "code",
      "metadata": {
        "id": "2vi9kDbZC73c"
      },
      "source": [
        "lt = [11, 3,1, 2, 2, 3,3, 5]\n",
        "\n",
        "#중복 요소 제거  "
      ],
      "execution_count": null,
      "outputs": []
    },
    {
      "cell_type": "markdown",
      "metadata": {
        "id": "gXPzTZdiDTtL"
      },
      "source": [
        "## **zip()**\n",
        "+ 동일한 개수로 이루어진 컬렉션 자료형을 묶어 주는 역할을 하는 함수"
      ]
    },
    {
      "cell_type": "code",
      "metadata": {
        "id": "fmBetaMKDg3-",
        "colab": {
          "base_uri": "https://localhost:8080/"
        },
        "outputId": "01cae798-d228-4a2a-987b-a1e75da29f45"
      },
      "source": [
        "lt = [10,50,30]\n",
        "tp = ('a','b','c')\n",
        "\n",
        "#딕션너리 만들기 \n",
        "dt1 = list(zip(lt,tp))\n",
        "dt2 = dict(zip(lt,tp))\n",
        "print(dt1)\n",
        "print(dt2)"
      ],
      "execution_count": 10,
      "outputs": [
        {
          "output_type": "stream",
          "text": [
            "[(10, 'a'), (50, 'b'), (30, 'c')]\n",
            "{10: 'a', 50: 'b', 30: 'c'}\n"
          ],
          "name": "stdout"
        }
      ]
    },
    {
      "cell_type": "code",
      "metadata": {
        "id": "xNGHaezSDpGy"
      },
      "source": [
        "#리스트 만들기 "
      ],
      "execution_count": null,
      "outputs": []
    }
  ]
}